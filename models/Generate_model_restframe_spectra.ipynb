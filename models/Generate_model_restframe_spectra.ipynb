{
 "cells": [
  {
   "cell_type": "markdown",
   "id": "89d7f9c3-1979-42a3-9b1f-4d8170483b49",
   "metadata": {},
   "source": [
    "# Generating rest-frame model spectra\n",
    "\n",
    "Before we can run SED fitting, we need to generate rest-frame model spectra. These models will be used in the initial fitting process in the MCMC fitting. The generated models can be used for fitting multiple galaxies with various redshifts. To allow accommodate more galaxies with wide redshift range, we can set relatively high maximum age (i.e., low minimum redshift) but large number of generated models spectra. This task can be performed using `save_models_rest_spec` function. For more information about this function, please see the API reference [here](https://pixedfit.readthedocs.io/en/latest/piXedfit_model.html#piXedfit.piXedfit_model.save_models_rest_spec). "
   ]
  },
  {
   "cell_type": "code",
   "execution_count": 1,
   "id": "d48d7fe5-e23f-446f-8b42-c318d8d1932c",
   "metadata": {},
   "outputs": [],
   "source": [
    "import numpy as np\n",
    "from astropy.cosmology import FlatLambdaCDM\n",
    "from piXedfit.piXedfit_model import save_models_rest_spec "
   ]
  },
  {
   "cell_type": "code",
   "execution_count": 2,
   "id": "13060e77-1e38-47d4-8a59-5ea68c17a728",
   "metadata": {},
   "outputs": [],
   "source": [
    "imf_type = 1                    # Chabrier (2003)\n",
    "sfh_form = 1                    # delayed tau SFH form\n",
    "dust_law = 0                    # Charlot & Fall (2000) dust attenuation law\n",
    "duste_switch = 0                # turn off dust emission\n",
    "add_neb_emission = 1            # turn on nebular emission\n",
    "add_agn = 0                     # turn off AGN dusty torus emission\n",
    "\n",
    "nmodels = 100000                # number of model spectra to be produced\n",
    "nproc = 5                       # number of cores to be used in the calculation\n",
    "\n",
    "min_z = 1.5                     # minimuz redshift which determines the maximum age of the models\n",
    "cosmo = FlatLambdaCDM(H0=70.0, Om0=0.3)\n",
    "age_univ = cosmo.age(min_z)\n",
    "max_log_age = np.log10(age_univ.value)\n",
    "\n",
    "# we fix the ionization parameter to log(U)=-2.0\n",
    "params_range = {'dust1':[0.0,4.0], 'dust2':[0.0,4.0], 'log_age':[-1.0,max_log_age], 'log_tau':[-1.0,1.5], 'gas_logu':[-2.0,-2.0]}\n",
    "\n",
    "name_out = 'model_specs.hdf5'\n",
    "save_models_rest_spec(imf_type=imf_type, sfh_form=sfh_form, dust_law=dust_law, params_range=params_range,\n",
    "                        duste_switch=duste_switch, add_neb_emission=add_neb_emission, add_agn=add_agn,\n",
    "                        nmodels=nmodels, nproc=nproc, name_out=name_out)"
   ]
  }
 ],
 "metadata": {
  "kernelspec": {
   "display_name": "Python 3",
   "language": "python",
   "name": "python3"
  },
  "language_info": {
   "codemirror_mode": {
    "name": "ipython",
    "version": 3
   },
   "file_extension": ".py",
   "mimetype": "text/x-python",
   "name": "python",
   "nbconvert_exporter": "python",
   "pygments_lexer": "ipython3",
   "version": "3.9.16"
  }
 },
 "nbformat": 4,
 "nbformat_minor": 5
}
